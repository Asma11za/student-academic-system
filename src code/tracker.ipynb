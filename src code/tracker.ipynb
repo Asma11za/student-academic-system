class User:
    def __init__(self, username, password):
        self.username = username
        self.password = password


class Student(User):
    def __init__(self, username, password, name, student_id):
        super().__init__(username, password)
        self.name = name
        self.student_id = student_id
        self.grades = {'English': None, 'Music': None, 'History': None, 'Science': None, 'Biology': None}
        self.attendance = {}
        self.portfolio = []

    def view_grades(self):
        print("Grades:")
        for subject, grade in self.grades.items():
            print(f"{subject}: {grade}")

    def view_attendance(self):
        print("Attendance:")
        for date, status in self.attendance.items():
            print(f"{date}: {status}")

    def view_portfolio(self):
        print("Portfolio Entries:")
        for entry in self.portfolio:
            print(entry)


class Teacher(User):
    def __init__(self, username, password):
        super().__init__(username, password)

    def add_student(self, users, name, student_id, student_username, student_password):
        student = Student(student_username, student_password, name, student_id)
        users.append(student)
        print("Student added successfully.")

    def add_grade(self, users, student_id, subject, grade):
        for user in users:
            if isinstance(user, Student) and user.student_id == student_id:
                user.grades[subject] = grade
                print("Grade added successfully.")
                return
        print("Student not found.")

    def update_grade(self, users, student_id, subject, new_grade):
        for user in users:
            if isinstance(user, Student) and user.student_id == student_id:
                if subject in user.grades:
                    user.grades[subject] = new_grade
                    print("Grade updated successfully.")
                    return
                else:
                    print("Subject not found.")
                    return
        print("Student not found.")

    def delete_grade(self, users, student_id, subject):
        for user in users:
            if isinstance(user, Student) and user.student_id == student_id:
                if subject in user.grades:
                    user.grades[subject] = None
                    print("Grade deleted successfully.")
                    return
                else:
                    print("Subject not found.")
                    return
        print("Student not found.")

    def mark_attendance(self, users, student_id, date, status):
        for user in users:
            if isinstance(user, Student) and user.student_id == student_id:
                user.attendance[date] = status
                print("Attendance marked successfully.")
                return
        print("Student not found.")

    def add_portfolio_entry(self, users, student_id, entry_type, entry):
        for user in users:
            if isinstance(user, Student) and user.student_id == student_id:
                user.portfolio.append((entry_type, entry))
                print("Portfolio entry added successfully.")
                return
        print("Student not found.")

    def list_all_students(self, users):
        print("List of Students:")
        for user in users:
            if isinstance(user, Student):
                print(f"ID: {user.student_id}, Name: {user.name}")

    def get_student_information(self, users, student_id):
        for user in users:
            if isinstance(user, Student) and user.student_id == student_id:
                print("Student Information:")
                print(f"Name: {user.name}")
                print(f"ID: {user.student_id}")
                print("Grades:")
                for subject, grade in user.grades.items():
                    print(f"{subject}: {grade}")
                print("Attendance:")
                for date, status in user.attendance.items():
                    print(f"{date}: {status}")
                print("Portfolio Entries:")
                for entry_type, entry in user.portfolio:
                    print(f"{entry_type}: {entry}")
                return
        print("Student not found.")


# Authentication function
def authenticate(username, password, users):
    for user in users:
        if user.username == username and user.password == password:
            return user
    return None


# Main function
def main():
    users = [Teacher("t", "123")]

    while True:
        print("\nStudent Grade and Academic Performance Tracking System")
        print("1. Student Login")
        print("2. Teacher Login")
        print("3. Exit")

        choice = input("Enter your choice: ")

        if choice == "1":
            username = input("Enter username: ")
            password = input("Enter password: ")
            user = authenticate(username, password, users)
            if isinstance(user, Student):
                print("Welcome, Student!")
                while True:
                    print("\nStudent Menu")
                    print("1. View Grades")
                    print("2. View Attendance")
                    print("3. View Portfolio")
                    print("4. Exit")
                    student_choice = input("Enter your choice: ")
                    if student_choice == "1":
                        user.view_grades()
                    elif student_choice == "2":
                        user.view_attendance()
                    elif student_choice == "3":
                        user.view_portfolio()
                    elif student_choice == "4":
                        break
                    else:
                        print("Invalid choice. Please try again.")

            else:
                print("Invalid username or password.")

        elif choice == "2":
            username = input("Enter username: ")
            password = input("Enter password: ")
            user = authenticate(username, password, users)
            if isinstance(user, Teacher):
                print("Welcome, Teacher!")
                while True:
                    print("\nTeacher Menu")
                    print("1. Add Student")
                    print("2. Add Grade")
                    print("3. Update Grade")
                    print("4. Delete Grade")
                    print("5. Mark Attendance")
                    print("6. Add Portfolio Entry")
                    print("7. List All Students")
                    print("8. Get Student Information")
                    print("9. Exit")
                    teacher_choice = input("Enter your choice: ")
                    if teacher_choice == "1":
                        name = input("Enter student name: ")
                        student_id = input("Enter student ID: ")
                        student_username = input("Enter student username: ")
                        student_password = input("Enter student password: ")
                        user.add_student(users, name, student_id, student_username, student_password)
                    elif teacher_choice == "2":
                        student_id = input("Enter student ID: ")
                        subject = input("Enter subject: ")
                        grade = float(input("Enter grade: "))
                        user.add_grade(users, student_id, subject, grade)
                    elif teacher_choice == "3":
                        student_id = input("Enter student ID: ")
                        subject = input("Enter subject (English, Music, History, Science, Biology): ")
                        new_grade = float(input("Enter new grade: "))
                        user.update_grade(users, student_id, subject, new_grade)
                    elif teacher_choice == "4":
                        student_id = input("Enter student ID: ")
                        subject = input("Enter subject: ")
                        user.delete_grade(users, student_id, subject)
                    elif teacher_choice == "5":
                        student_id = input("Enter student ID: ")
                        date = input("Enter date (YYYY-MM-DD): ")
                        status = input("Enter attendance status (Present/Absent): ")
                        user.mark_attendance(users, student_id, date, status)
                    elif teacher_choice == "6":
                        student_id = input("Enter student ID: ")
                        entry_type = input("Enter entry type (Essay, Project, Assignment): ")
                        entry = input("Enter portfolio entry: ")
                        user.add_portfolio_entry(users, student_id, entry_type, entry)
                    elif teacher_choice == "7":
                        user.list_all_students(users)
                    elif teacher_choice == "8":
                        student_id = input("Enter student ID: ")
                        user.get_student_information(users, student_id)
                    elif teacher_choice == "9":
                        break
                    else:
                        print("Invalid choice. Please try again.")

            else:
                print("Invalid username or password.")

        elif choice == "3":
            print("Exiting...")
            break

        else:
            print("Invalid choice. Please try again.")


if __name__ == "__main__":
    main()
